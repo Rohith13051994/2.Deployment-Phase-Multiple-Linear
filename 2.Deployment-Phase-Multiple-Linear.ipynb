{
 "cells": [
  {
   "cell_type": "code",
   "execution_count": 1,
   "id": "cf73201b-eaae-4af3-9928-b2fc6f4f3c6a",
   "metadata": {},
   "outputs": [],
   "source": [
    "# pickle is loaded from python \n",
    "import pickle"
   ]
  },
  {
   "cell_type": "code",
   "execution_count": 2,
   "id": "13d2c273-3640-4a16-99e8-75e0d038bcef",
   "metadata": {},
   "outputs": [
    {
     "name": "stderr",
     "output_type": "stream",
     "text": [
      "C:\\Users\\rohit\\anaconda3\\Lib\\site-packages\\sklearn\\base.py:439: UserWarning: X does not have valid feature names, but LinearRegression was fitted with feature names\n",
      "  warnings.warn(\n"
     ]
    }
   ],
   "source": [
    "#R-squared (R²) score is calculated and a measure of how well the predictions y_pred match the actual values y_test, and stores the result in r_score.\n",
    "loaded_model=pickle.load(open(\"mulline_final.sav\",\"rb\"))\n",
    "result=loaded_model.predict([[1653,1367,484,1,0]])"
   ]
  },
  {
   "cell_type": "code",
   "execution_count": 3,
   "id": "50040d17-0b6d-4aea-92ab-a9fc921cf8f7",
   "metadata": {},
   "outputs": [
    {
     "data": {
      "text/plain": [
       "array([[46524.25235572]])"
      ]
     },
     "execution_count": 3,
     "metadata": {},
     "output_type": "execute_result"
    }
   ],
   "source": [
    "result"
   ]
  }
 ],
 "metadata": {
  "kernelspec": {
   "display_name": "Python 3 (ipykernel)",
   "language": "python",
   "name": "python3"
  },
  "language_info": {
   "codemirror_mode": {
    "name": "ipython",
    "version": 3
   },
   "file_extension": ".py",
   "mimetype": "text/x-python",
   "name": "python",
   "nbconvert_exporter": "python",
   "pygments_lexer": "ipython3",
   "version": "3.11.7"
  }
 },
 "nbformat": 4,
 "nbformat_minor": 5
}
